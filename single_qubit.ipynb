{
 "cells": [
  {
   "cell_type": "code",
   "execution_count": 2,
   "id": "966a2ee8-40e9-455f-9791-a6dd186b2c4f",
   "metadata": {},
   "outputs": [],
   "source": [
    "import numpy as np\n",
    "from qiskit import QuantumCircuit, Aer, execute\n",
    "from qiskit.quantum_info import random_statevector, DensityMatrix\n",
    "import torch\n",
    "import torch.nn as nn\n",
    "import torch.optim as optim\n",
    "from torch.utils.data import DataLoader, TensorDataset\n",
    "from IPython.display import clear_output\n",
    "import scipy as sp"
   ]
  },
  {
   "cell_type": "code",
   "execution_count": 3,
   "id": "65b21a4c-8d58-45a5-9624-a56198dcfa70",
   "metadata": {},
   "outputs": [],
   "source": [
    "# Functions to create random states and circuits\n",
    "def create_random_state():\n",
    "    state = random_statevector(2)\n",
    "    return state\n",
    "\n",
    "def create_circuit_from_state(state=0, show=False):\n",
    "    qc = QuantumCircuit(1)\n",
    "    if (show == True):\n",
    "        qc.draw('mpl', style='clifford')\n",
    "        return\n",
    "    qc.initialize(state.data, 0)\n",
    "    return qc\n",
    "\n",
    "# Functions to add measurements in different bases\n",
    "def measure_z_basis(qc):\n",
    "    qc.measure_all()\n",
    "    return qc\n",
    "\n",
    "def measure_x_basis(qc):\n",
    "    qc.h(0)\n",
    "    qc.measure_all()\n",
    "    return qc\n",
    "\n",
    "def measure_y_basis(qc):\n",
    "    qc.sdg(0)\n",
    "    qc.h(0)\n",
    "    qc.measure_all()\n",
    "    return qc\n",
    "\n",
    "# Function to simulate measurements\n",
    "def simulate_measurements(qc):\n",
    "    backend = Aer.get_backend('qasm_simulator')\n",
    "    result = execute(qc, backend, shots=1024).result()\n",
    "    counts = result.get_counts()\n",
    "    return counts\n",
    "\n",
    "# Function to collect measurement data in different bases\n",
    "def collect_data(state, bases=['Z', 'X', 'Y']):\n",
    "    data = []\n",
    "    for basis in bases:\n",
    "        qc = create_circuit_from_state(state)\n",
    "        if basis == 'Z':\n",
    "            qc = measure_z_basis(qc)\n",
    "        elif basis == 'X':\n",
    "            qc = measure_x_basis(qc)\n",
    "        elif basis == 'Y':\n",
    "            qc = measure_y_basis(qc)\n",
    "        counts = simulate_measurements(qc)\n",
    "        data.append(counts)\n",
    "    return data\n",
    "\n",
    "# Convert measurement counts to probabilities\n",
    "def counts_to_probabilities(counts):\n",
    "    shots = sum(counts.values())\n",
    "    probabilities = {k: v / shots for k, v in counts.items()}\n",
    "    return probabilities\n",
    "\n",
    "# Ensure all measurement counts have entries for '0' and '1'\n",
    "def normalize_counts(counts):\n",
    "    if '0' not in counts:\n",
    "        counts['0'] = 0\n",
    "    if '1' not in counts:\n",
    "        counts['1'] = 0\n",
    "    return counts\n",
    "\n",
    "# Preprocess measurement data\n",
    "def preprocess_data(training_data):\n",
    "    processed_data = []\n",
    "    for sample in training_data:\n",
    "        sample_data = []\n",
    "        for counts in sample:\n",
    "            counts = normalize_counts(counts)\n",
    "            probabilities = counts_to_probabilities(counts)\n",
    "            sample_data.extend([probabilities['0'], probabilities['1']])\n",
    "        processed_data.append(sample_data)\n",
    "    return np.array(processed_data)"
   ]
  },
  {
   "cell_type": "code",
   "execution_count": 4,
   "id": "713dcf06-ca10-4b54-add8-5aa58a8377d5",
   "metadata": {},
   "outputs": [
    {
     "name": "stdout",
     "output_type": "stream",
     "text": [
      "Finished with sample number: 4999\n"
     ]
    }
   ],
   "source": [
    "# Generate training data\n",
    "num_samples = 5000\n",
    "training_data = []\n",
    "training_labels = []\n",
    "\n",
    "for i in range(num_samples):\n",
    "    state = create_random_state()\n",
    "    data = collect_data(state)\n",
    "    density_matrix = DensityMatrix(state)\n",
    "    # Separate real and imaginary parts\n",
    "    real_part = np.real(density_matrix.data).flatten()\n",
    "    imag_part = np.imag(density_matrix.data).flatten()\n",
    "    combined_data = np.concatenate((real_part, imag_part))\n",
    "    training_data.append(data)\n",
    "    training_labels.append(combined_data)\n",
    "    \n",
    "    clear_output(wait=True)\n",
    "    print(f\"Finished with sample number: {i}\")"
   ]
  },
  {
   "cell_type": "code",
   "execution_count": 5,
   "id": "6784a54e-bb3a-48d9-8354-b3ff4ac65a49",
   "metadata": {},
   "outputs": [],
   "source": [
    "# Preprocess the training data\n",
    "processed_training_data = preprocess_data(training_data)\n",
    "training_labels = np.array(training_labels)\n",
    "\n",
    "# Convert to PyTorch tensors\n",
    "X_train = torch.tensor(processed_training_data, dtype=torch.float32)\n",
    "y_train = torch.tensor(training_labels, dtype=torch.float32)"
   ]
  },
  {
   "cell_type": "code",
   "execution_count": 6,
   "id": "4448ca10-74cc-44db-8853-5402026f5001",
   "metadata": {},
   "outputs": [],
   "source": [
    "# Define the neural network using PyTorch\n",
    "class QuantumTomographyNN(nn.Module):\n",
    "    def __init__(self):\n",
    "        super(QuantumTomographyNN, self).__init__()\n",
    "        self.fc1 = nn.Linear(6, 256)\n",
    "        self.fc2 = nn.Linear(256, 128)\n",
    "        self.fc3 = nn.Linear(128, 64)\n",
    "        self.fc4 = nn.Linear(64, 8)\n",
    "\n",
    "    def forward(self, x):\n",
    "        x = torch.relu(self.fc1(x))\n",
    "        x = torch.relu(self.fc2(x))\n",
    "        x = torch.relu(self.fc3(x))\n",
    "        x = self.fc4(x)\n",
    "        return x\n",
    "\n",
    "# Initialize the model, loss function, and optimizer\n",
    "model = QuantumTomographyNN()\n",
    "criterion = nn.MSELoss()\n",
    "optimizer = optim.Adam(model.parameters(), lr=0.001)\n",
    "\n",
    "# Create DataLoader for batching\n",
    "dataset = TensorDataset(X_train, y_train)\n",
    "dataloader = DataLoader(dataset, batch_size=64, shuffle=True)"
   ]
  },
  {
   "cell_type": "code",
   "execution_count": 7,
   "id": "126b4d9a-bb89-457e-852a-8b4559a58bb9",
   "metadata": {},
   "outputs": [
    {
     "name": "stdout",
     "output_type": "stream",
     "text": [
      "Epoch [10/200], Loss: 0.0001\n",
      "Epoch [20/200], Loss: 0.0001\n",
      "Epoch [30/200], Loss: 0.0001\n",
      "Epoch [40/200], Loss: 0.0002\n",
      "Epoch [50/200], Loss: 0.0001\n",
      "Epoch [60/200], Loss: 0.0001\n",
      "Epoch [70/200], Loss: 0.0002\n",
      "Epoch [80/200], Loss: 0.0001\n",
      "Epoch [90/200], Loss: 0.0001\n",
      "Epoch [100/200], Loss: 0.0001\n",
      "Epoch [110/200], Loss: 0.0001\n",
      "Epoch [120/200], Loss: 0.0001\n",
      "Epoch [130/200], Loss: 0.0001\n",
      "Epoch [140/200], Loss: 0.0001\n",
      "Epoch [150/200], Loss: 0.0002\n",
      "Epoch [160/200], Loss: 0.0002\n",
      "Epoch [170/200], Loss: 0.0001\n",
      "Epoch [180/200], Loss: 0.0001\n",
      "Epoch [190/200], Loss: 0.0003\n",
      "Epoch [200/200], Loss: 0.0001\n"
     ]
    }
   ],
   "source": [
    "# Train the model\n",
    "num_epochs = 200  # Increase the number of epochs\n",
    "for epoch in range(num_epochs):\n",
    "    for batch_X, batch_y in dataloader:\n",
    "        optimizer.zero_grad()\n",
    "        outputs = model(batch_X)\n",
    "        loss = criterion(outputs, batch_y)\n",
    "        loss.backward()\n",
    "        optimizer.step()\n",
    "    if (epoch + 1) % 10 == 0:\n",
    "        print(f'Epoch [{epoch+1}/{num_epochs}], Loss: {loss.item():.4f}')"
   ]
  },
  {
   "cell_type": "code",
   "execution_count": 10,
   "id": "aeb2fd26-ca9c-49e3-8bee-1e97880eef0f",
   "metadata": {},
   "outputs": [
    {
     "name": "stdout",
     "output_type": "stream",
     "text": [
      "Reconstructed Density Matrix: [[ 0.3883014 -0.00157657j -0.4858738 -0.05791982j]\n",
      " [-0.48386443+0.06172486j  0.61492366+0.00062614j]]\n",
      "Original Density Matrix: [[ 0.39604374-4.44158005e-18j -0.48456133-6.62828240e-02j]\n",
      " [-0.48456133+6.62828240e-02j  0.60395626+8.96943293e-18j]]\n"
     ]
    },
    {
     "name": "stderr",
     "output_type": "stream",
     "text": [
      "C:\\Users\\Omen\\AppData\\Local\\Temp\\ipykernel_22020\\3833741471.py:33: DeprecationWarning: The function ``qiskit.execute_function.execute()`` is deprecated as of qiskit 0.46.0. It will be removed in the Qiskit 1.0 release. This function combines ``transpile`` and ``backend.run``, which is covered by ``Sampler`` :mod:`~qiskit.primitives`. Alternatively, you can also run :func:`.transpile` followed by ``backend.run()``.\n",
      "  result = execute(qc, backend, shots=1024).result()\n"
     ]
    }
   ],
   "source": [
    "# Use the trained model to reconstruct quantum states from new data\n",
    "def reconstruct_density_matrix(measurement_data):\n",
    "    processed_data = preprocess_data([measurement_data])\n",
    "    input_tensor = torch.tensor(processed_data, dtype=torch.float32)\n",
    "    with torch.no_grad():\n",
    "        predicted_elements = model(input_tensor).numpy()\n",
    "    real_part = predicted_elements[:, :4]\n",
    "    imag_part = predicted_elements[:, 4:]\n",
    "    combined_matrix = real_part + 1j * imag_part\n",
    "    return combined_matrix.reshape((2, 2))\n",
    "\n",
    "# Example of reconstructing a quantum state\n",
    "new_state = create_random_state()\n",
    "new_data = collect_data(new_state)\n",
    "reconstructed_density_matrix = reconstruct_density_matrix(new_data)\n",
    "print(\"Reconstructed Density Matrix:\", reconstructed_density_matrix)\n",
    "original_density_matrix = DensityMatrix(new_state).data\n",
    "print(\"Original Density Matrix:\", original_density_matrix)"
   ]
  },
  {
   "cell_type": "code",
   "execution_count": 11,
   "id": "dbaf14ef-4efe-4d6b-9acf-324092468bef",
   "metadata": {},
   "outputs": [
    {
     "data": {
      "text/plain": [
       "1.002999374809127"
      ]
     },
     "execution_count": 11,
     "metadata": {},
     "output_type": "execute_result"
    }
   ],
   "source": [
    "def check_fidelity(rho, sigma):\n",
    "    fid = (np.trace(sp.linalg.sqrtm(np.matmul(rho, sigma))))**2\n",
    "    return np.real(fid)\n",
    "\n",
    "check_fidelity(reconstructed_density_matrix, original_density_matrix)"
   ]
  },
  {
   "cell_type": "code",
   "execution_count": 12,
   "id": "42346f9c-e509-4762-ba11-d2c5a1e40c8d",
   "metadata": {},
   "outputs": [],
   "source": [
    "from qiskit.quantum_info.states.utils import _funm_svd\n",
    "\n",
    "def qiskit_fidelity(arr1, arr2):\n",
    "    # Fidelity of two DensityMatrices\n",
    "    s1sq = _funm_svd(arr1, np.sqrt)\n",
    "    s2sq = _funm_svd(arr2, np.sqrt)\n",
    "    fid = np.linalg.norm(s1sq.dot(s2sq), ord='nuc')**2\n",
    "    # Convert to py float rather than return np.float\n",
    "    return float(np.real(fid))"
   ]
  },
  {
   "cell_type": "code",
   "execution_count": 13,
   "id": "ac0df87c-9192-4bc6-9040-c229b243502b",
   "metadata": {},
   "outputs": [
    {
     "data": {
      "text/plain": [
       "1.003007898600562"
      ]
     },
     "execution_count": 13,
     "metadata": {},
     "output_type": "execute_result"
    }
   ],
   "source": [
    "qiskit_fidelity(reconstructed_density_matrix, original_density_matrix)"
   ]
  },
  {
   "cell_type": "code",
   "execution_count": 14,
   "id": "50365da2-22f3-48e4-ab01-1aa3dbab99db",
   "metadata": {},
   "outputs": [],
   "source": [
    "def avrg_fidelity(n):\n",
    "    fids = []\n",
    "    for i in range(n):\n",
    "        new_state = create_random_state()\n",
    "        new_data = collect_data(new_state)\n",
    "        reconstructed_density_matrix = reconstruct_density_matrix(new_data)\n",
    "        original_density_matrix = DensityMatrix(new_state).data\n",
    "        fid = check_fidelity(reconstructed_density_matrix, original_density_matrix)\n",
    "        fids.append(fid)\n",
    "\n",
    "        clear_output(wait=True)\n",
    "        print(f\"Finished with iteration number: {i}\")\n",
    "    return sum(fids) / n"
   ]
  },
  {
   "cell_type": "code",
   "execution_count": 15,
   "id": "8f1450c1-7fbb-486e-a882-0aa2240791bf",
   "metadata": {},
   "outputs": [
    {
     "name": "stdout",
     "output_type": "stream",
     "text": [
      "Finished with iteration number: 99\n"
     ]
    },
    {
     "data": {
      "text/plain": [
       "0.9999892821666413"
      ]
     },
     "execution_count": 15,
     "metadata": {},
     "output_type": "execute_result"
    }
   ],
   "source": [
    "avrg_fidelity(100)"
   ]
  }
 ],
 "metadata": {
  "kernelspec": {
   "display_name": "Python 3 (ipykernel)",
   "language": "python",
   "name": "python3"
  },
  "language_info": {
   "codemirror_mode": {
    "name": "ipython",
    "version": 3
   },
   "file_extension": ".py",
   "mimetype": "text/x-python",
   "name": "python",
   "nbconvert_exporter": "python",
   "pygments_lexer": "ipython3",
   "version": "3.12.4"
  }
 },
 "nbformat": 4,
 "nbformat_minor": 5
}

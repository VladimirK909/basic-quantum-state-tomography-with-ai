{
 "cells": [
  {
   "cell_type": "code",
   "execution_count": 1,
   "id": "4aaf04c7-6423-4817-aa41-157cc25ec990",
   "metadata": {},
   "outputs": [],
   "source": [
    "import numpy as np\n",
    "import torch\n",
    "import torch.nn as nn\n",
    "import torch.optim as optim\n",
    "import scipy as sp\n",
    "import csv\n",
    "from torch.utils.data import DataLoader, TensorDataset\n",
    "from qiskit import Aer, execute, QuantumCircuit\n",
    "from qiskit.quantum_info import DensityMatrix, random_statevector\n",
    "from IPython.display import clear_output"
   ]
  },
  {
   "cell_type": "code",
   "execution_count": 2,
   "id": "1d57584b-4e42-4c39-a1f6-b9e8d5148c5b",
   "metadata": {
    "jupyter": {
     "source_hidden": true
    }
   },
   "outputs": [],
   "source": [
    "# Functions\n",
    "def create_circuit():\n",
    "    qc = QuantumCircuit(3)\n",
    "    qc.h(0)\n",
    "    qc.cx(0, 1)\n",
    "    qc.cx(1, 2)\n",
    "    return qc\n",
    "\n",
    "# Function to measure in different bases\n",
    "def measure_basis(qc, basis):\n",
    "    if basis == 'ZZZ':\n",
    "        qc.measure_all()\n",
    "    elif basis == 'XXX':\n",
    "        qc.h([0, 1, 2])\n",
    "        qc.measure_all()\n",
    "    elif basis == 'YYY':\n",
    "        qc.sdg([0, 1, 2])\n",
    "        qc.h([0, 1, 2])\n",
    "        qc.measure_all()\n",
    "    return qc\n",
    "\n",
    "# Function to simulate measurements\n",
    "def simulate_measurements(qc):\n",
    "    backend = Aer.get_backend('qasm_simulator')\n",
    "    result = execute(qc, backend, shots=1024).result()\n",
    "    counts = result.get_counts()\n",
    "    return counts\n",
    "\n",
    "# Function to collect measurement data\n",
    "def collect_data(statevector):\n",
    "    bases = ['ZZZ', 'XXX', 'YYY']\n",
    "    data = []\n",
    "    for basis in bases:\n",
    "        qc = QuantumCircuit(3)\n",
    "        qc.initialize(statevector, [0, 1, 2])\n",
    "        qc = create_circuit().compose(qc)\n",
    "        qc = measure_basis(qc, basis)\n",
    "        counts = simulate_measurements(qc)\n",
    "        data.append(counts)\n",
    "    return data\n",
    "\n",
    "# Convert measurement counts to probabilities\n",
    "def counts_to_probabilities(counts, num_qubits):\n",
    "    shots = sum(counts.values())\n",
    "    probabilities = {k: v / shots for k, v in counts.items()}\n",
    "    # Ensure all measurement outcomes are present\n",
    "    for i in range(2 ** num_qubits):\n",
    "        key = format(i, f'0{num_qubits}b')\n",
    "        if key not in probabilities:\n",
    "            probabilities[key] = 0.0\n",
    "    return probabilities\n",
    "\n",
    "# Preprocess the training data\n",
    "def preprocess_data(training_data, num_qubits):\n",
    "    processed_data = []\n",
    "    for sample in training_data:\n",
    "        sample_data = []\n",
    "        for counts in sample:\n",
    "            probabilities = counts_to_probabilities(counts, num_qubits)\n",
    "            sample_data.extend([probabilities[format(i, f'0{num_qubits}b')] for i in range(2 ** num_qubits)])\n",
    "        processed_data.append(sample_data)\n",
    "    return np.array(processed_data)"
   ]
  },
  {
   "cell_type": "code",
   "execution_count": 3,
   "id": "e0696fc5-f80f-422a-aba3-49eea25b40a4",
   "metadata": {},
   "outputs": [
    {
     "name": "stdout",
     "output_type": "stream",
     "text": [
      "Finished with sample number: 99\n"
     ]
    }
   ],
   "source": [
    "# Generate training data\n",
    "num_samples = 100\n",
    "num_qubits = 3\n",
    "training_data = []\n",
    "training_labels = []\n",
    "\n",
    "for i in range(num_samples):\n",
    "    statevector = random_statevector(2**num_qubits).data  # Generate random state vector\n",
    "    data = collect_data(statevector)  # Collect measurement data for the current state\n",
    "    qc = QuantumCircuit(3)\n",
    "    qc.initialize(statevector, [0, 1, 2])\n",
    "    qc = create_circuit().compose(qc)  # Apply fixed circuit to the state\n",
    "    state = execute(qc, Aer.get_backend('statevector_simulator')).result().get_statevector()\n",
    "    density_matrix = DensityMatrix(state)  # Convert state vector to density matrix\n",
    "    # Separate real and imaginary parts\n",
    "    real_part = np.real(density_matrix.data).flatten()\n",
    "    imag_part = np.imag(density_matrix.data).flatten()\n",
    "    combined_data = np.concatenate((real_part, imag_part))\n",
    "    training_data.append(data)\n",
    "    training_labels.append(combined_data)\n",
    "\n",
    "    clear_output(wait=True)\n",
    "    print(f\"Finished with sample number: {i}\")\n",
    "\n",
    "# Preprocess the training data\n",
    "processed_training_data = preprocess_data(training_data, num_qubits)\n",
    "training_labels = np.array(training_labels)"
   ]
  },
  {
   "cell_type": "code",
   "execution_count": 5,
   "id": "4947de8b-4aff-4924-ac7f-a7c514678a88",
   "metadata": {},
   "outputs": [
    {
     "data": {
      "text/plain": [
       "(100, 24)"
      ]
     },
     "execution_count": 5,
     "metadata": {},
     "output_type": "execute_result"
    }
   ],
   "source": [
    "processed_training_data.shape"
   ]
  },
  {
   "cell_type": "code",
   "execution_count": null,
   "id": "586ffe5b-0211-40bc-88ac-1f6af5040f35",
   "metadata": {},
   "outputs": [],
   "source": [
    "np.savetxt(f'3q-processed_training_data_{num_samples}.csv', processed_training_data, delimiter=',')\n",
    "np.savetxt(f'3q-training_labels_{num_samples}.csv', training_labels, delimiter=',')"
   ]
  }
 ],
 "metadata": {
  "kernelspec": {
   "display_name": "Python 3 (ipykernel)",
   "language": "python",
   "name": "python3"
  },
  "language_info": {
   "codemirror_mode": {
    "name": "ipython",
    "version": 3
   },
   "file_extension": ".py",
   "mimetype": "text/x-python",
   "name": "python",
   "nbconvert_exporter": "python",
   "pygments_lexer": "ipython3",
   "version": "3.12.4"
  }
 },
 "nbformat": 4,
 "nbformat_minor": 5
}
